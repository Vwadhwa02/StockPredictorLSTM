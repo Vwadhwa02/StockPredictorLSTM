{
 "cells": [
  {
   "cell_type": "code",
   "execution_count": null,
   "metadata": {},
   "outputs": [],
   "source": [
    "import numpy as np\n",
    "import pandas as pd\n",
    "import matplotlib.pyplot as plt\n",
    "import pandas_datareader as data\n",
    "import yfinance as yf"
   ]
  },
  {
   "cell_type": "code",
   "execution_count": null,
   "metadata": {},
   "outputs": [],
   "source": [
    "tart='2010-01-01'\n",
    "end='2015-12-31'\n",
    "#d=data.DataReader(\"TSLA\",\"yahoo\", tart, end)\n",
    "df = yf.download('TSLA', start='2010-01-01', end='2023-03-23')\n",
    "df.head()\n",
    "\n",
    "#data\n",
    "#d.head()"
   ]
  },
  {
   "cell_type": "code",
   "execution_count": null,
   "metadata": {},
   "outputs": [],
   "source": [
    "df=df.reset_index()\n",
    "df.head()\n",
    "df.tail()\n"
   ]
  },
  {
   "cell_type": "code",
   "execution_count": null,
   "metadata": {},
   "outputs": [],
   "source": [
    "#df=df.drop(['Date','Adj Close'],axis=0)\n",
    "df=df.drop('Adj Close',axis=1)\n",
    "df.head()"
   ]
  },
  {
   "cell_type": "code",
   "execution_count": null,
   "metadata": {},
   "outputs": [],
   "source": [
    "plt.plot(df.Close)"
   ]
  },
  {
   "cell_type": "code",
   "execution_count": null,
   "metadata": {},
   "outputs": [],
   "source": [
    "ma100=df.Close.rolling(100).mean()\n",
    "print(ma100)\n",
    "plt.plot(ma100,'r')\n",
    "plt.plot(df.Close,'b')"
   ]
  },
  {
   "cell_type": "code",
   "execution_count": null,
   "metadata": {},
   "outputs": [],
   "source": [
    "ma200=df.Close.rolling(200).mean()\n",
    "print(ma200)\n",
    "plt.plot(ma100,'r')\n",
    "plt.plot(df.Close,'b')\n",
    "plt.plot(ma200,'y')"
   ]
  },
  {
   "cell_type": "code",
   "execution_count": null,
   "metadata": {},
   "outputs": [],
   "source": [
    "#data training\n",
    "data_train=pd.DataFrame(df['Close'][0:2560])\n",
    "data_test=pd.DataFrame(df['Close'][2560:3204])\n",
    "print(data_train.shape)\n",
    "print(data_test.shape)\n",
    "data_train.head()"
   ]
  },
  {
   "cell_type": "code",
   "execution_count": null,
   "metadata": {},
   "outputs": [],
   "source": [
    "from sklearn.preprocessing import MinMaxScaler\n",
    "\n",
    "scaler = MinMaxScaler(feature_range=(0,1))"
   ]
  },
  {
   "cell_type": "code",
   "execution_count": null,
   "metadata": {},
   "outputs": [],
   "source": [
    "data_traina=scaler.fit_transform(data_train)\n",
    "data_traina"
   ]
  },
  {
   "cell_type": "code",
   "execution_count": null,
   "metadata": {},
   "outputs": [],
   "source": [
    "x_train=[]\n",
    "y_train=[]\n",
    "\n",
    "for i in range(100,data_traina.shape[0]):\n",
    "    x_train.append(data_traina[i-100:i])\n",
    "    y_train.append(data_traina[i:0])\n",
    "\n",
    "x_train,y_train=np.array(x_train),np.array(y_train)\n",
    "    "
   ]
  },
  {
   "cell_type": "code",
   "execution_count": null,
   "metadata": {},
   "outputs": [],
   "source": [
    "x_train.shape"
   ]
  },
  {
   "cell_type": "code",
   "execution_count": null,
   "metadata": {},
   "outputs": [],
   "source": [
    "#ml model\n",
    "from keras.layers import Dense,Dropout,LSTM\n",
    "from keras.models import Sequential\n",
    "\n",
    "model = Sequential([\n",
    "\n",
    "    LSTM(units=50, return_sequences=True, input_shape=(x_train.shape[1], 1)),\n",
    "    Dropout(0.2),\n",
    "    LSTM(units=60, return_sequences=True),\n",
    "    Dropout(0.3),\n",
    "    LSTM(units=70),\n",
    "    Dropout(0.4),\n",
    "    Dense(units=1)\n",
    "])"
   ]
  },
  {
   "cell_type": "code",
   "execution_count": null,
   "metadata": {},
   "outputs": [],
   "source": [
    "#model.compile(optimizer='adam',loss='mean_squared_error')\n",
    "#model.fit(x_train,y_train,epochs=20)"
   ]
  },
  {
   "cell_type": "code",
   "execution_count": null,
   "metadata": {},
   "outputs": [],
   "source": [
    "from keras.models import load_model\n",
    "\n",
    "#saving the model \n",
    "#model.save('nn.h5')\n",
    "#loading it\n",
    "modeln=load_model('nn.h5')"
   ]
  },
  {
   "cell_type": "code",
   "execution_count": null,
   "metadata": {},
   "outputs": [],
   "source": [
    "past100=data_train.tail(100)\n",
    "final=past100.append(data_test,ignore_index=True)\n",
    "final.head()"
   ]
  },
  {
   "cell_type": "code",
   "execution_count": null,
   "metadata": {},
   "outputs": [],
   "source": [
    "inputd=scaler.fit_transform(final)\n",
    "inputd"
   ]
  },
  {
   "cell_type": "code",
   "execution_count": null,
   "metadata": {},
   "outputs": [],
   "source": [
    "inputd.shape"
   ]
  },
  {
   "cell_type": "code",
   "execution_count": null,
   "metadata": {},
   "outputs": [],
   "source": [
    "x_test=[]\n",
    "y_test=[]\n",
    "for i in range(100,inputd.shape[0]):\n",
    "    x_test.append(inputd[i-100:i])\n",
    "    y_test.append(inputd[i,0])\n",
    "x_test,y_test=np.array(x_test),np.array(y_test)\n",
    "print(x_test.shape,y_test.shape)"
   ]
  },
  {
   "cell_type": "code",
   "execution_count": null,
   "metadata": {},
   "outputs": [],
   "source": [
    "#Predictions\n",
    "\n",
    "# y_predict=modeln.predict(x_test)\n",
    "\n",
    "y_test\n",
    "y=modeln.predict(x_test)\n",
    "print(y)"
   ]
  },
  {
   "cell_type": "code",
   "execution_count": null,
   "metadata": {},
   "outputs": [],
   "source": [
    "print(y.shape)\n",
    "print(y)"
   ]
  },
  {
   "cell_type": "code",
   "execution_count": null,
   "metadata": {},
   "outputs": [],
   "source": [
    "print (scaler.scale_)\n",
    "\n",
    "scale=1/0.00267661\n",
    "y_predict=y_predict*scale\n",
    "y_test=y_test\n"
   ]
  },
  {
   "cell_type": "code",
   "execution_count": null,
   "metadata": {},
   "outputs": [],
   "source": [
    "#plt.plot(y_predict,'r',label=\"predicted\")\n",
    "plt.plot(y_test*scale,'b',label=\"og\")\n",
    "plt.plot(y*scale*-18,'g',label=\"predicted\")\n",
    "plt.xlabel('time')\n",
    "plt.ylabel('price')\n",
    "plt.show()"
   ]
  }
 ],
 "metadata": {
  "kernelspec": {
   "display_name": "Python 3",
   "language": "python",
   "name": "python3"
  },
  "language_info": {
   "codemirror_mode": {
    "name": "ipython",
    "version": 3
   },
   "file_extension": ".py",
   "mimetype": "text/x-python",
   "name": "python",
   "nbconvert_exporter": "python",
   "pygments_lexer": "ipython3",
   "version": "3.11.0"
  },
  "orig_nbformat": 4,
  "vscode": {
   "interpreter": {
    "hash": "5f80c455da1dc101d9f66a16923589bd6dbb3429340af280f1efed2f72025e97"
   }
  }
 },
 "nbformat": 4,
 "nbformat_minor": 2
}
